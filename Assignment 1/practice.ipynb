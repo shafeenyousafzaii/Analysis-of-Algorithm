{
 "cells": [
  {
   "cell_type": "code",
   "execution_count": 7,
   "metadata": {},
   "outputs": [],
   "source": [
    "def nested_count(n):\n",
    "    total = 0\n",
    "    for i in range(n):\n",
    "        print(\"Outer Loop i : \" ,i)\n",
    "        for j in range(n):\n",
    "            print(\"Middle loop j : \" ,j)\n",
    "            for k in range(i + 1):\n",
    "                print(\"Inner Loop k : \" ,k)\n",
    "                total += 1\n",
    "    return total"
   ]
  },
  {
   "cell_type": "code",
   "execution_count": 8,
   "metadata": {},
   "outputs": [
    {
     "name": "stdout",
     "output_type": "stream",
     "text": [
      "Outer Loop i :  0\n",
      "Middle loop j :  0\n",
      "Inner Loop k :  0\n",
      "Middle loop j :  1\n",
      "Inner Loop k :  0\n",
      "Outer Loop i :  1\n",
      "Middle loop j :  0\n",
      "Inner Loop k :  0\n",
      "Inner Loop k :  1\n",
      "Middle loop j :  1\n",
      "Inner Loop k :  0\n",
      "Inner Loop k :  1\n",
      "6\n"
     ]
    }
   ],
   "source": [
    "x=nested_count(2)\n",
    "print(x)"
   ]
  }
 ],
 "metadata": {
  "kernelspec": {
   "display_name": "Python 3",
   "language": "python",
   "name": "python3"
  },
  "language_info": {
   "codemirror_mode": {
    "name": "ipython",
    "version": 3
   },
   "file_extension": ".py",
   "mimetype": "text/x-python",
   "name": "python",
   "nbconvert_exporter": "python",
   "pygments_lexer": "ipython3",
   "version": "3.10.14"
  }
 },
 "nbformat": 4,
 "nbformat_minor": 2
}
